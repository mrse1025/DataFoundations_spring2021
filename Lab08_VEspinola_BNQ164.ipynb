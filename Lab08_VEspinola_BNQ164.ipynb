{
 "cells": [
  {
   "cell_type": "markdown",
   "metadata": {},
   "source": [
    "# Victoria Espinola\n",
    "## BNQ164\n",
    "# Lab 08\n",
    "### IS6713 \n",
    "\n",
    "Instructions:\n",
    "1. Add the lines of code required to obtain the requested output.\n",
    "\n",
    "2. The code should be inserted where requested   \n",
    "   \n",
    "3. Do not modify other parts of this notebook.  \n",
    "  \n",
    "4. Remember to write in your name and abc123 in the first cell of this notebook.\n",
    "  \n",
    "5. Upload the notebook on Blackboard before the deadline!\n",
    "__________________________________________________________"
   ]
  },
  {
   "cell_type": "markdown",
   "metadata": {},
   "source": [
    "## Exercise 8.1\n",
    "### Analyze Frankenstein_excerpt.txt following the steps described below:\n",
    "(reference: video textProcessing)\n",
    "\n",
    "- Normalize (lower case)\n",
    "- Tokenize (use nltk.word_tokenize())\n",
    "- Eliminate the stop-words\n",
    "- Eliminate the punctuation\n",
    "- Lemmatize\n",
    "- Calculate the Frequency\n",
    "- Print the 25 most frequent terms\n",
    "- Plot the 25 most frequent terms"
   ]
  },
  {
   "cell_type": "code",
   "execution_count": 1,
   "metadata": {},
   "outputs": [],
   "source": [
    "# Load raw text\n",
    "fhand = open(\"Frankenstein_excerpt.txt\")\n",
    "text = ''\n",
    "for line in fhand:\n",
    "    text += line.strip() + ' '\n",
    "fhand.close()\n",
    "## Trim out the initial comments. \n",
    "textRaw = text[250:]   # text is the raw text we are working with"
   ]
  },
  {
   "cell_type": "code",
   "execution_count": 2,
   "metadata": {},
   "outputs": [
    {
     "data": {
      "text/plain": [
       "\"frankenstein,  or the modern prometheus   by  mary wollstonecraft (godwin) shelley     letter 1   st. petersburgh, dec. 11th, 17--  to mrs. saville, england  you will rejoice to hear that no disaster has accompanied the commencement of an enterprise which you have regarded with such evil forebodings.  i arrived here yesterday, and my first task is to assure my dear sister of my welfare and increasing confidence in the success of my undertaking.  i am already far north of london, and as i walk in the streets of petersburgh, i feel a cold northern breeze play upon my cheeks, which braces my nerves and fills me with delight.  do you understand this feeling?  this breeze, which has travelled from the regions towards which i am advancing, gives me a foretaste of those icy climes. inspirited by this wind of promise, my daydreams become more fervent and vivid.  i try in vain to be persuaded that the pole is the seat of frost and desolation; it ever presents itself to my imagination as the region of beauty and delight.  there, margaret, the sun is forever visible, its broad disk just skirting the horizon and diffusing a perpetual splendour.  there--for with your leave, my sister, i will put some trust in preceding navigators--there snow and frost are banished; and, sailing over a calm sea, we may be wafted to a land surpassing in wonders and in beauty every region hitherto discovered on the habitable globe.  its productions and features may be without example, as the phenomena of the heavenly bodies undoubtedly are in those undiscovered solitudes.  what may not be expected in a country of eternal light?  i may there discover the wondrous power which attracts the needle and may regulate a thousand celestial observations that require only this voyage to render their seeming eccentricities consistent forever.  i shall satiate my ardent curiosity with the sight of a part of the world never before visited, and may tread a land never before imprinted by the foot of man. these are my enticements, and they are sufficient to conquer all fear of danger or death and to induce me to commence this laborious voyage with the joy a child feels when he embarks in a little boat, with his holiday mates, on an expedition of discovery up his native river. but supposing all these conjectures to be false, you cannot contest the inestimable benefit which i shall confer on all mankind, to the last generation, by discovering a passage near the pole to those countries, to reach which at present so many months are requisite; or by ascertaining the secret of the magnet, which, if at all possible, can only be effected by an undertaking such as mine.  these reflections have dispelled the agitation with which i began my letter, and i feel my heart glow with an enthusiasm which elevates me to heaven, for nothing contributes so much to tranquillize the mind as a steady purpose--a point on which the soul may fix its intellectual eye.  this expedition has been the favourite dream of my early years. i have read with ardour the accounts of the various voyages which have been made in the prospect of arriving at the north pacific ocean through the seas which surround the pole.  you may remember that a history of all the voyages made for purposes of discovery composed the whole of our good uncle thomas' library.  my education was neglected, yet i was passionately fond of reading.  these volumes were my study day and night, and my familiarity with them increased that regret which i had felt, as a child, on learning that my father's dying injunction had forbidden my uncle to allow me to embark in a seafaring life.  these visions faded when i perused, for the first time, those poets whose effusions entranced my soul and lifted it to heaven.  i also became a poet and for one year lived in a paradise of my own creation; i imagined that i also might obtain a niche in the temple where the names of homer and shakespeare are consecrated.  you are well acquainted with my failure and how heavily i bore the disappointment. but just at that time i inherited the fortune of my cousin, and my thoughts were turned into the channel of their earlier bent.  six years have passed since i resolved on my present undertaking.  i can, even now, remember the hour from which i dedicated myself to this great enterprise.  i commenced by inuring my body to hardship.  i accompanied the whale-fishers on several expeditions to the north sea; i voluntarily endured cold, famine, thirst, and want of sleep; i often worked harder than the common sailors during the day and devoted my nights to the study of mathematics, the theory of medicine, and those branches of physical science from which a naval adventurer might derive the greatest practical advantage.  twice i actually hired myself as an under-mate in a greenland whaler, and acquitted myself to admiration. i must own i felt a little proud when my captain offered me the second dignity in the vessel and entreated me to remain with the greatest earnestness, so valuable did he consider my services.  and now, dear margaret, do i not deserve to accomplish some great purpose?  my life might have been passed in ease and luxury, but i preferred glory to every enticement that wealth placed in my path.  oh, that some encouraging voice would answer in the affirmative!  my courage and my resolution is firm; but my hopes fluctuate, and my spirits are often depressed.  i am about to proceed on a long and difficult voyage, the emergencies of which will demand all my fortitude:  i am required not only to raise the spirits of others, but sometimes to sustain my own, when theirs are failing.  this is the most favourable period for travelling in russia.  they fly quickly over the snow in their sledges; the motion is pleasant, and, in my opinion, far more agreeable than that of an english stagecoach.  the cold is not excessive, if you are wrapped in furs--a dress which i have already adopted, for there is a great difference between walking the deck and remaining seated motionless for hours, when no exercise prevents the blood from actually freezing in your veins.  i have no ambition to lose my life on the post-road between st. petersburgh and archangel. i shall depart for the latter town in a fortnight or three weeks; and my intention is to hire a ship there, which can easily be done by paying the insurance for the owner, and to engage as many sailors as i think necessary among those who are accustomed to the whale-fishing.  i do not intend to sail until the month of june; and when shall i return?  ah, dear sister, how can i answer this question? if i succeed, many, many months, perhaps years, will pass before you and i may meet.  if i fail, you will see me again soon, or never. farewell, my dear, excellent margaret. heaven shower down blessings on you, and save me, that i may again and again testify my gratitude for all your love and kindness.  your affectionate brother, r. walton  \""
      ]
     },
     "execution_count": 2,
     "metadata": {},
     "output_type": "execute_result"
    }
   ],
   "source": [
    "# Step 1: Normalize\n",
    "# write your code here\n",
    "textRaw.lower()"
   ]
  },
  {
   "cell_type": "code",
   "execution_count": 3,
   "metadata": {},
   "outputs": [],
   "source": [
    "import nltk\n",
    "#nltk.download('punkt')\n",
    "# Step 2: Tokenize (use nltk.word_tokenize())\n",
    "# write your code here\n",
    "tokens=nltk.word_tokenize(textRaw)"
   ]
  },
  {
   "cell_type": "code",
   "execution_count": 4,
   "metadata": {},
   "outputs": [],
   "source": [
    "# Step 3: Eliminate the stop-words\n",
    "# write your code here\n",
    "#nltk.download('stopwords')\n",
    "from nltk.corpus import stopwords\n",
    "stopwords= set(stopwords.words('english'))\n",
    "cleaned = [tok for tok in tokens if len(tok.lower())>1 and (tok.lower() not in stopwords)]"
   ]
  },
  {
   "cell_type": "code",
   "execution_count": 18,
   "metadata": {},
   "outputs": [
    {
     "name": "stdout",
     "output_type": "stream",
     "text": [
      "['frankenstein', 'modern', 'prometheus', 'mary', 'wollstonecraft', 'godwin', 'shelley', 'letter', 'st.', 'petersburgh', 'dec.', '11th', '17', '--', 'mrs.', 'saville', 'england', 'rejoice', 'hear', 'disaster', 'accompanied', 'commencement', 'enterprise', 'regarded', 'evil', 'forebodings', 'arrived', 'yesterday', 'first', 'task', 'assure', 'dear', 'sister', 'welfare', 'increasing', 'confidence', 'success', 'undertaking', 'already', 'far', 'north', 'london', 'walk', 'streets', 'petersburgh', 'feel', 'cold', 'northern', 'breeze', 'play', 'upon', 'cheeks', 'braces', 'nerves', 'fills', 'delight', 'understand', 'feeling', 'breeze', 'travelled', 'regions', 'towards', 'advancing', 'gives', 'foretaste', 'icy', 'climes', 'inspirited', 'wind', 'promise', 'daydreams', 'become', 'fervent', 'vivid', 'try', 'vain', 'persuaded', 'pole', 'seat', 'frost', 'desolation', 'ever', 'presents', 'imagination', 'region', 'beauty', 'delight', 'margaret', 'sun', 'forever', 'visible', 'broad', 'disk', 'skirting', 'horizon', 'diffusing', 'perpetual', 'splendour', '--', 'leave', 'sister', 'put', 'trust', 'preceding', 'navigators', '--', 'snow', 'frost', 'banished', 'sailing', 'calm', 'sea', 'may', 'wafted', 'land', 'surpassing', 'wonders', 'beauty', 'every', 'region', 'hitherto', 'discovered', 'habitable', 'globe', 'productions', 'features', 'may', 'without', 'example', 'phenomena', 'heavenly', 'bodies', 'undoubtedly', 'undiscovered', 'solitudes', 'may', 'expected', 'country', 'eternal', 'light', 'may', 'discover', 'wondrous', 'power', 'attracts', 'needle', 'may', 'regulate', 'thousand', 'celestial', 'observations', 'require', 'voyage', 'render', 'seeming', 'eccentricities', 'consistent', 'forever', 'shall', 'satiate', 'ardent', 'curiosity', 'sight', 'part', 'world', 'never', 'visited', 'may', 'tread', 'land', 'never', 'imprinted', 'foot', 'man', 'enticements', 'sufficient', 'conquer', 'fear', 'danger', 'death', 'induce', 'commence', 'laborious', 'voyage', 'joy', 'child', 'feels', 'embarks', 'little', 'boat', 'holiday', 'mates', 'expedition', 'discovery', 'native', 'river', 'supposing', 'conjectures', 'false', 'contest', 'inestimable', 'benefit', 'shall', 'confer', 'mankind', 'last', 'generation', 'discovering', 'passage', 'near', 'pole', 'countries', 'reach', 'present', 'many', 'months', 'requisite', 'ascertaining', 'secret', 'magnet', 'possible', 'effected', 'undertaking', 'mine', 'reflections', 'dispelled', 'agitation', 'began', 'letter', 'feel', 'heart', 'glow', 'enthusiasm', 'elevates', 'heaven', 'nothing', 'contributes', 'much', 'tranquillize', 'mind', 'steady', 'purpose', '--', 'point', 'soul', 'may', 'fix', 'intellectual', 'eye', 'expedition', 'favourite', 'dream', 'early', 'years', 'read', 'ardour', 'accounts', 'various', 'voyages', 'made', 'prospect', 'arriving', 'north', 'pacific', 'ocean', 'seas', 'surround', 'pole', 'may', 'remember', 'history', 'voyages', 'made', 'purposes', 'discovery', 'composed', 'whole', 'good', 'uncle', 'thomas', 'library', 'education', 'neglected', 'yet', 'passionately', 'fond', 'reading', 'volumes', 'study', 'day', 'night', 'familiarity', 'increased', 'regret', 'felt', 'child', 'learning', 'father', \"'s\", 'dying', 'injunction', 'forbidden', 'uncle', 'allow', 'embark', 'seafaring', 'life', 'visions', 'faded', 'perused', 'first', 'time', 'poets', 'whose', 'effusions', 'entranced', 'soul', 'lifted', 'heaven', 'also', 'became', 'poet', 'one', 'year', 'lived', 'paradise', 'creation', 'imagined', 'also', 'might', 'obtain', 'niche', 'temple', 'names', 'homer', 'shakespeare', 'consecrated', 'well', 'acquainted', 'failure', 'heavily', 'bore', 'disappointment', 'time', 'inherited', 'fortune', 'cousin', 'thoughts', 'turned', 'channel', 'earlier', 'bent', 'six', 'years', 'passed', 'since', 'resolved', 'present', 'undertaking', 'even', 'remember', 'hour', 'dedicated', 'great', 'enterprise', 'commenced', 'inuring', 'body', 'hardship', 'accompanied', 'whale-fishers', 'several', 'expeditions', 'north', 'sea', 'voluntarily', 'endured', 'cold', 'famine', 'thirst', 'want', 'sleep', 'often', 'worked', 'harder', 'common', 'sailors', 'day', 'devoted', 'nights', 'study', 'mathematics', 'theory', 'medicine', 'branches', 'physical', 'science', 'naval', 'adventurer', 'might', 'derive', 'greatest', 'practical', 'advantage', 'twice', 'actually', 'hired', 'under-mate', 'greenland', 'whaler', 'acquitted', 'admiration', 'must', 'felt', 'little', 'proud', 'captain', 'offered', 'second', 'dignity', 'vessel', 'entreated', 'remain', 'greatest', 'earnestness', 'valuable', 'consider', 'services', 'dear', 'margaret', 'deserve', 'accomplish', 'great', 'purpose', 'life', 'might', 'passed', 'ease', 'luxury', 'preferred', 'glory', 'every', 'enticement', 'wealth', 'placed', 'path', 'oh', 'encouraging', 'voice', 'would', 'answer', 'affirmative', 'courage', 'resolution', 'firm', 'hopes', 'fluctuate', 'spirits', 'often', 'depressed', 'proceed', 'long', 'difficult', 'voyage', 'emergencies', 'demand', 'fortitude', 'required', 'raise', 'spirits', 'others', 'sometimes', 'sustain', 'failing', 'favourable', 'period', 'travelling', 'russia', 'fly', 'quickly', 'snow', 'sledges', 'motion', 'pleasant', 'opinion', 'far', 'agreeable', 'english', 'stagecoach', 'cold', 'excessive', 'wrapped', 'furs', '--', 'dress', 'already', 'adopted', 'great', 'difference', 'walking', 'deck', 'remaining', 'seated', 'motionless', 'hours', 'exercise', 'prevents', 'blood', 'actually', 'freezing', 'veins', 'ambition', 'lose', 'life', 'post-road', 'st.', 'petersburgh', 'archangel', 'shall', 'depart', 'latter', 'town', 'fortnight', 'three', 'weeks', 'intention', 'hire', 'ship', 'easily', 'done', 'paying', 'insurance', 'owner', 'engage', 'many', 'sailors', 'think', 'necessary', 'among', 'accustomed', 'whale-fishing', 'intend', 'sail', 'month', 'june', 'shall', 'return', 'ah', 'dear', 'sister', 'answer', 'question', 'succeed', 'many', 'many', 'months', 'perhaps', 'years', 'pass', 'may', 'meet', 'fail', 'see', 'soon', 'never', 'farewell', 'dear', 'excellent', 'margaret', 'heaven', 'shower', 'blessings', 'save', 'may', 'testify', 'gratitude', 'love', 'kindness', 'affectionate', 'brother', 'r.', 'walton']\n"
     ]
    }
   ],
   "source": [
    "# Step 4: Eliminate the punctuation\n",
    "# write your code here\n",
    "import string\n",
    "def rem_punc(cleaned):\n",
    "    no_punct = \" \".join([c for c in cleaned if c not in string.punctuation])\n",
    "    return no_punct.lower().split()\n",
    "clean=rem_punc(cleaned)\n",
    "print(clean)"
   ]
  },
  {
   "cell_type": "code",
   "execution_count": 20,
   "metadata": {},
   "outputs": [
    {
     "name": "stdout",
     "output_type": "stream",
     "text": [
      "['frankenstein', 'modern', 'prometheus', 'mary', 'wollstonecraft', 'godwin', 'shelley', 'letter', 'st.', 'petersburgh', 'dec.', '11th', '17', '--', 'mrs.', 'saville', 'england', 'rejoice', 'hear', 'disaster', 'accompanied', 'commencement', 'enterprise', 'regarded', 'evil', 'foreboding', 'arrived', 'yesterday', 'first', 'task', 'assure', 'dear', 'sister', 'welfare', 'increasing', 'confidence', 'success', 'undertaking', 'already', 'far', 'north', 'london', 'walk', 'street', 'petersburgh', 'feel', 'cold', 'northern', 'breeze', 'play', 'upon', 'cheek', 'brace', 'nerve', 'fill', 'delight', 'understand', 'feeling', 'breeze', 'travelled', 'region', 'towards', 'advancing', 'give', 'foretaste', 'icy', 'clime', 'inspirited', 'wind', 'promise', 'daydream', 'become', 'fervent', 'vivid', 'try', 'vain', 'persuaded', 'pole', 'seat', 'frost', 'desolation', 'ever', 'present', 'imagination', 'region', 'beauty', 'delight', 'margaret', 'sun', 'forever', 'visible', 'broad', 'disk', 'skirting', 'horizon', 'diffusing', 'perpetual', 'splendour', '--', 'leave', 'sister', 'put', 'trust', 'preceding', 'navigator', '--', 'snow', 'frost', 'banished', 'sailing', 'calm', 'sea', 'may', 'wafted', 'land', 'surpassing', 'wonder', 'beauty', 'every', 'region', 'hitherto', 'discovered', 'habitable', 'globe', 'production', 'feature', 'may', 'without', 'example', 'phenomenon', 'heavenly', 'body', 'undoubtedly', 'undiscovered', 'solitude', 'may', 'expected', 'country', 'eternal', 'light', 'may', 'discover', 'wondrous', 'power', 'attracts', 'needle', 'may', 'regulate', 'thousand', 'celestial', 'observation', 'require', 'voyage', 'render', 'seeming', 'eccentricity', 'consistent', 'forever', 'shall', 'satiate', 'ardent', 'curiosity', 'sight', 'part', 'world', 'never', 'visited', 'may', 'tread', 'land', 'never', 'imprinted', 'foot', 'man', 'enticement', 'sufficient', 'conquer', 'fear', 'danger', 'death', 'induce', 'commence', 'laborious', 'voyage', 'joy', 'child', 'feel', 'embarks', 'little', 'boat', 'holiday', 'mate', 'expedition', 'discovery', 'native', 'river', 'supposing', 'conjecture', 'false', 'contest', 'inestimable', 'benefit', 'shall', 'confer', 'mankind', 'last', 'generation', 'discovering', 'passage', 'near', 'pole', 'country', 'reach', 'present', 'many', 'month', 'requisite', 'ascertaining', 'secret', 'magnet', 'possible', 'effected', 'undertaking', 'mine', 'reflection', 'dispelled', 'agitation', 'began', 'letter', 'feel', 'heart', 'glow', 'enthusiasm', 'elevates', 'heaven', 'nothing', 'contributes', 'much', 'tranquillize', 'mind', 'steady', 'purpose', '--', 'point', 'soul', 'may', 'fix', 'intellectual', 'eye', 'expedition', 'favourite', 'dream', 'early', 'year', 'read', 'ardour', 'account', 'various', 'voyage', 'made', 'prospect', 'arriving', 'north', 'pacific', 'ocean', 'sea', 'surround', 'pole', 'may', 'remember', 'history', 'voyage', 'made', 'purpose', 'discovery', 'composed', 'whole', 'good', 'uncle', 'thomas', 'library', 'education', 'neglected', 'yet', 'passionately', 'fond', 'reading', 'volume', 'study', 'day', 'night', 'familiarity', 'increased', 'regret', 'felt', 'child', 'learning', 'father', \"'s\", 'dying', 'injunction', 'forbidden', 'uncle', 'allow', 'embark', 'seafaring', 'life', 'vision', 'faded', 'perused', 'first', 'time', 'poet', 'whose', 'effusion', 'entranced', 'soul', 'lifted', 'heaven', 'also', 'became', 'poet', 'one', 'year', 'lived', 'paradise', 'creation', 'imagined', 'also', 'might', 'obtain', 'niche', 'temple', 'name', 'homer', 'shakespeare', 'consecrated', 'well', 'acquainted', 'failure', 'heavily', 'bore', 'disappointment', 'time', 'inherited', 'fortune', 'cousin', 'thought', 'turned', 'channel', 'earlier', 'bent', 'six', 'year', 'passed', 'since', 'resolved', 'present', 'undertaking', 'even', 'remember', 'hour', 'dedicated', 'great', 'enterprise', 'commenced', 'inuring', 'body', 'hardship', 'accompanied', 'whale-fishers', 'several', 'expedition', 'north', 'sea', 'voluntarily', 'endured', 'cold', 'famine', 'thirst', 'want', 'sleep', 'often', 'worked', 'harder', 'common', 'sailor', 'day', 'devoted', 'night', 'study', 'mathematics', 'theory', 'medicine', 'branch', 'physical', 'science', 'naval', 'adventurer', 'might', 'derive', 'greatest', 'practical', 'advantage', 'twice', 'actually', 'hired', 'under-mate', 'greenland', 'whaler', 'acquitted', 'admiration', 'must', 'felt', 'little', 'proud', 'captain', 'offered', 'second', 'dignity', 'vessel', 'entreated', 'remain', 'greatest', 'earnestness', 'valuable', 'consider', 'service', 'dear', 'margaret', 'deserve', 'accomplish', 'great', 'purpose', 'life', 'might', 'passed', 'ease', 'luxury', 'preferred', 'glory', 'every', 'enticement', 'wealth', 'placed', 'path', 'oh', 'encouraging', 'voice', 'would', 'answer', 'affirmative', 'courage', 'resolution', 'firm', 'hope', 'fluctuate', 'spirit', 'often', 'depressed', 'proceed', 'long', 'difficult', 'voyage', 'emergency', 'demand', 'fortitude', 'required', 'raise', 'spirit', 'others', 'sometimes', 'sustain', 'failing', 'favourable', 'period', 'travelling', 'russia', 'fly', 'quickly', 'snow', 'sledge', 'motion', 'pleasant', 'opinion', 'far', 'agreeable', 'english', 'stagecoach', 'cold', 'excessive', 'wrapped', 'fur', '--', 'dress', 'already', 'adopted', 'great', 'difference', 'walking', 'deck', 'remaining', 'seated', 'motionless', 'hour', 'exercise', 'prevents', 'blood', 'actually', 'freezing', 'vein', 'ambition', 'lose', 'life', 'post-road', 'st.', 'petersburgh', 'archangel', 'shall', 'depart', 'latter', 'town', 'fortnight', 'three', 'week', 'intention', 'hire', 'ship', 'easily', 'done', 'paying', 'insurance', 'owner', 'engage', 'many', 'sailor', 'think', 'necessary', 'among', 'accustomed', 'whale-fishing', 'intend', 'sail', 'month', 'june', 'shall', 'return', 'ah', 'dear', 'sister', 'answer', 'question', 'succeed', 'many', 'many', 'month', 'perhaps', 'year', 'pas', 'may', 'meet', 'fail', 'see', 'soon', 'never', 'farewell', 'dear', 'excellent', 'margaret', 'heaven', 'shower', 'blessing', 'save', 'may', 'testify', 'gratitude', 'love', 'kindness', 'affectionate', 'brother', 'r.', 'walton']\n"
     ]
    }
   ],
   "source": [
    "# Step 5: Lemmatize\n",
    "# write your code here\n",
    "from nltk.stem import WordNetLemmatizer\n",
    "#nltk.download('wordnet')\n",
    "lemmatizer = WordNetLemmatizer()\n",
    "lemmed= []\n",
    "for c in clean: \n",
    "    lemmed.append(lemmatizer.lemmatize(c))\n",
    "print(lemmed)    "
   ]
  },
  {
   "cell_type": "code",
   "execution_count": 22,
   "metadata": {},
   "outputs": [
    {
     "name": "stdout",
     "output_type": "stream",
     "text": [
      "{'frankenstein': 1, 'modern': 1, 'prometheus': 1, 'mary': 1, 'wollstonecraft': 1, 'godwin': 1, 'shelley': 1, 'letter': 2, 'st.': 2, 'petersburgh': 3, 'dec.': 1, '11th': 1, '17': 1, '--': 5, 'mrs.': 1, 'saville': 1, 'england': 1, 'rejoice': 1, 'hear': 1, 'disaster': 1, 'accompanied': 2, 'commencement': 1, 'enterprise': 2, 'regarded': 1, 'evil': 1, 'foreboding': 1, 'arrived': 1, 'yesterday': 1, 'first': 2, 'task': 1, 'assure': 1, 'dear': 4, 'sister': 3, 'welfare': 1, 'increasing': 1, 'confidence': 1, 'success': 1, 'undertaking': 3, 'already': 2, 'far': 2, 'north': 3, 'london': 1, 'walk': 1, 'street': 1, 'feel': 3, 'cold': 3, 'northern': 1, 'breeze': 2, 'play': 1, 'upon': 1, 'cheek': 1, 'brace': 1, 'nerve': 1, 'fill': 1, 'delight': 2, 'understand': 1, 'feeling': 1, 'travelled': 1, 'region': 3, 'towards': 1, 'advancing': 1, 'give': 1, 'foretaste': 1, 'icy': 1, 'clime': 1, 'inspirited': 1, 'wind': 1, 'promise': 1, 'daydream': 1, 'become': 1, 'fervent': 1, 'vivid': 1, 'try': 1, 'vain': 1, 'persuaded': 1, 'pole': 3, 'seat': 1, 'frost': 2, 'desolation': 1, 'ever': 1, 'present': 3, 'imagination': 1, 'beauty': 2, 'margaret': 3, 'sun': 1, 'forever': 2, 'visible': 1, 'broad': 1, 'disk': 1, 'skirting': 1, 'horizon': 1, 'diffusing': 1, 'perpetual': 1, 'splendour': 1, 'leave': 1, 'put': 1, 'trust': 1, 'preceding': 1, 'navigator': 1, 'snow': 2, 'banished': 1, 'sailing': 1, 'calm': 1, 'sea': 3, 'may': 10, 'wafted': 1, 'land': 2, 'surpassing': 1, 'wonder': 1, 'every': 2, 'hitherto': 1, 'discovered': 1, 'habitable': 1, 'globe': 1, 'production': 1, 'feature': 1, 'without': 1, 'example': 1, 'phenomenon': 1, 'heavenly': 1, 'body': 2, 'undoubtedly': 1, 'undiscovered': 1, 'solitude': 1, 'expected': 1, 'country': 2, 'eternal': 1, 'light': 1, 'discover': 1, 'wondrous': 1, 'power': 1, 'attracts': 1, 'needle': 1, 'regulate': 1, 'thousand': 1, 'celestial': 1, 'observation': 1, 'require': 1, 'voyage': 5, 'render': 1, 'seeming': 1, 'eccentricity': 1, 'consistent': 1, 'shall': 4, 'satiate': 1, 'ardent': 1, 'curiosity': 1, 'sight': 1, 'part': 1, 'world': 1, 'never': 3, 'visited': 1, 'tread': 1, 'imprinted': 1, 'foot': 1, 'man': 1, 'enticement': 2, 'sufficient': 1, 'conquer': 1, 'fear': 1, 'danger': 1, 'death': 1, 'induce': 1, 'commence': 1, 'laborious': 1, 'joy': 1, 'child': 2, 'embarks': 1, 'little': 2, 'boat': 1, 'holiday': 1, 'mate': 1, 'expedition': 3, 'discovery': 2, 'native': 1, 'river': 1, 'supposing': 1, 'conjecture': 1, 'false': 1, 'contest': 1, 'inestimable': 1, 'benefit': 1, 'confer': 1, 'mankind': 1, 'last': 1, 'generation': 1, 'discovering': 1, 'passage': 1, 'near': 1, 'reach': 1, 'many': 4, 'month': 3, 'requisite': 1, 'ascertaining': 1, 'secret': 1, 'magnet': 1, 'possible': 1, 'effected': 1, 'mine': 1, 'reflection': 1, 'dispelled': 1, 'agitation': 1, 'began': 1, 'heart': 1, 'glow': 1, 'enthusiasm': 1, 'elevates': 1, 'heaven': 3, 'nothing': 1, 'contributes': 1, 'much': 1, 'tranquillize': 1, 'mind': 1, 'steady': 1, 'purpose': 3, 'point': 1, 'soul': 2, 'fix': 1, 'intellectual': 1, 'eye': 1, 'favourite': 1, 'dream': 1, 'early': 1, 'year': 4, 'read': 1, 'ardour': 1, 'account': 1, 'various': 1, 'made': 2, 'prospect': 1, 'arriving': 1, 'pacific': 1, 'ocean': 1, 'surround': 1, 'remember': 2, 'history': 1, 'composed': 1, 'whole': 1, 'good': 1, 'uncle': 2, 'thomas': 1, 'library': 1, 'education': 1, 'neglected': 1, 'yet': 1, 'passionately': 1, 'fond': 1, 'reading': 1, 'volume': 1, 'study': 2, 'day': 2, 'night': 2, 'familiarity': 1, 'increased': 1, 'regret': 1, 'felt': 2, 'learning': 1, 'father': 1, \"'s\": 1, 'dying': 1, 'injunction': 1, 'forbidden': 1, 'allow': 1, 'embark': 1, 'seafaring': 1, 'life': 3, 'vision': 1, 'faded': 1, 'perused': 1, 'time': 2, 'poet': 2, 'whose': 1, 'effusion': 1, 'entranced': 1, 'lifted': 1, 'also': 2, 'became': 1, 'one': 1, 'lived': 1, 'paradise': 1, 'creation': 1, 'imagined': 1, 'might': 3, 'obtain': 1, 'niche': 1, 'temple': 1, 'name': 1, 'homer': 1, 'shakespeare': 1, 'consecrated': 1, 'well': 1, 'acquainted': 1, 'failure': 1, 'heavily': 1, 'bore': 1, 'disappointment': 1, 'inherited': 1, 'fortune': 1, 'cousin': 1, 'thought': 1, 'turned': 1, 'channel': 1, 'earlier': 1, 'bent': 1, 'six': 1, 'passed': 2, 'since': 1, 'resolved': 1, 'even': 1, 'hour': 2, 'dedicated': 1, 'great': 3, 'commenced': 1, 'inuring': 1, 'hardship': 1, 'whale-fishers': 1, 'several': 1, 'voluntarily': 1, 'endured': 1, 'famine': 1, 'thirst': 1, 'want': 1, 'sleep': 1, 'often': 2, 'worked': 1, 'harder': 1, 'common': 1, 'sailor': 2, 'devoted': 1, 'mathematics': 1, 'theory': 1, 'medicine': 1, 'branch': 1, 'physical': 1, 'science': 1, 'naval': 1, 'adventurer': 1, 'derive': 1, 'greatest': 2, 'practical': 1, 'advantage': 1, 'twice': 1, 'actually': 2, 'hired': 1, 'under-mate': 1, 'greenland': 1, 'whaler': 1, 'acquitted': 1, 'admiration': 1, 'must': 1, 'proud': 1, 'captain': 1, 'offered': 1, 'second': 1, 'dignity': 1, 'vessel': 1, 'entreated': 1, 'remain': 1, 'earnestness': 1, 'valuable': 1, 'consider': 1, 'service': 1, 'deserve': 1, 'accomplish': 1, 'ease': 1, 'luxury': 1, 'preferred': 1, 'glory': 1, 'wealth': 1, 'placed': 1, 'path': 1, 'oh': 1, 'encouraging': 1, 'voice': 1, 'would': 1, 'answer': 2, 'affirmative': 1, 'courage': 1, 'resolution': 1, 'firm': 1, 'hope': 1, 'fluctuate': 1, 'spirit': 2, 'depressed': 1, 'proceed': 1, 'long': 1, 'difficult': 1, 'emergency': 1, 'demand': 1, 'fortitude': 1, 'required': 1, 'raise': 1, 'others': 1, 'sometimes': 1, 'sustain': 1, 'failing': 1, 'favourable': 1, 'period': 1, 'travelling': 1, 'russia': 1, 'fly': 1, 'quickly': 1, 'sledge': 1, 'motion': 1, 'pleasant': 1, 'opinion': 1, 'agreeable': 1, 'english': 1, 'stagecoach': 1, 'excessive': 1, 'wrapped': 1, 'fur': 1, 'dress': 1, 'adopted': 1, 'difference': 1, 'walking': 1, 'deck': 1, 'remaining': 1, 'seated': 1, 'motionless': 1, 'exercise': 1, 'prevents': 1, 'blood': 1, 'freezing': 1, 'vein': 1, 'ambition': 1, 'lose': 1, 'post-road': 1, 'archangel': 1, 'depart': 1, 'latter': 1, 'town': 1, 'fortnight': 1, 'three': 1, 'week': 1, 'intention': 1, 'hire': 1, 'ship': 1, 'easily': 1, 'done': 1, 'paying': 1, 'insurance': 1, 'owner': 1, 'engage': 1, 'think': 1, 'necessary': 1, 'among': 1, 'accustomed': 1, 'whale-fishing': 1, 'intend': 1, 'sail': 1, 'june': 1, 'return': 1, 'ah': 1, 'question': 1, 'succeed': 1, 'perhaps': 1, 'pas': 1, 'meet': 1, 'fail': 1, 'see': 1, 'soon': 1, 'farewell': 1, 'excellent': 1, 'shower': 1, 'blessing': 1, 'save': 1, 'testify': 1, 'gratitude': 1, 'love': 1, 'kindness': 1, 'affectionate': 1, 'brother': 1, 'r.': 1, 'walton': 1}\n"
     ]
    }
   ],
   "source": [
    "# Step 6: Calculate the Frequency\n",
    "# write your code here\n",
    "freq =dict()\n",
    "for c in lemmed:\n",
    "    if c not in freq:\n",
    "        freq[c] =1\n",
    "    else:\n",
    "        freq[c]=freq[c]+1\n",
    "print(freq)        "
   ]
  },
  {
   "cell_type": "code",
   "execution_count": 25,
   "metadata": {},
   "outputs": [
    {
     "data": {
      "text/html": [
       "<div>\n",
       "<style scoped>\n",
       "    .dataframe tbody tr th:only-of-type {\n",
       "        vertical-align: middle;\n",
       "    }\n",
       "\n",
       "    .dataframe tbody tr th {\n",
       "        vertical-align: top;\n",
       "    }\n",
       "\n",
       "    .dataframe thead th {\n",
       "        text-align: right;\n",
       "    }\n",
       "</style>\n",
       "<table border=\"1\" class=\"dataframe\">\n",
       "  <thead>\n",
       "    <tr style=\"text-align: right;\">\n",
       "      <th></th>\n",
       "      <th>word</th>\n",
       "      <th>frequency</th>\n",
       "    </tr>\n",
       "  </thead>\n",
       "  <tbody>\n",
       "    <tr>\n",
       "      <th>0</th>\n",
       "      <td>may</td>\n",
       "      <td>10</td>\n",
       "    </tr>\n",
       "    <tr>\n",
       "      <th>1</th>\n",
       "      <td>--</td>\n",
       "      <td>5</td>\n",
       "    </tr>\n",
       "    <tr>\n",
       "      <th>2</th>\n",
       "      <td>voyage</td>\n",
       "      <td>5</td>\n",
       "    </tr>\n",
       "    <tr>\n",
       "      <th>3</th>\n",
       "      <td>shall</td>\n",
       "      <td>4</td>\n",
       "    </tr>\n",
       "    <tr>\n",
       "      <th>4</th>\n",
       "      <td>many</td>\n",
       "      <td>4</td>\n",
       "    </tr>\n",
       "    <tr>\n",
       "      <th>...</th>\n",
       "      <td>...</td>\n",
       "      <td>...</td>\n",
       "    </tr>\n",
       "    <tr>\n",
       "      <th>470</th>\n",
       "      <td>conjecture</td>\n",
       "      <td>1</td>\n",
       "    </tr>\n",
       "    <tr>\n",
       "      <th>471</th>\n",
       "      <td>supposing</td>\n",
       "      <td>1</td>\n",
       "    </tr>\n",
       "    <tr>\n",
       "      <th>472</th>\n",
       "      <td>river</td>\n",
       "      <td>1</td>\n",
       "    </tr>\n",
       "    <tr>\n",
       "      <th>473</th>\n",
       "      <td>native</td>\n",
       "      <td>1</td>\n",
       "    </tr>\n",
       "    <tr>\n",
       "      <th>474</th>\n",
       "      <td>walton</td>\n",
       "      <td>1</td>\n",
       "    </tr>\n",
       "  </tbody>\n",
       "</table>\n",
       "<p>475 rows × 2 columns</p>\n",
       "</div>"
      ],
      "text/plain": [
       "           word  frequency\n",
       "0           may         10\n",
       "1            --          5\n",
       "2        voyage          5\n",
       "3         shall          4\n",
       "4          many          4\n",
       "..          ...        ...\n",
       "470  conjecture          1\n",
       "471   supposing          1\n",
       "472       river          1\n",
       "473      native          1\n",
       "474      walton          1\n",
       "\n",
       "[475 rows x 2 columns]"
      ]
     },
     "execution_count": 25,
     "metadata": {},
     "output_type": "execute_result"
    }
   ],
   "source": [
    "# Step 7: Print the 25 most frequent terms\n",
    "# write your code here\n",
    "import pandas as pd\n",
    "word_df=pd.DataFrame(freq.items(),columns=['word','frequency'])\n",
    "word_df=word_df.sort_values(by=['frequency'],ascending=False)\n",
    "word_df.reset_index(drop=True, inplace=True)\n",
    "word_df"
   ]
  },
  {
   "cell_type": "code",
   "execution_count": 9,
   "metadata": {},
   "outputs": [],
   "source": [
    "# Step 8: Plot the 25 most frequent terms\n",
    "# write your code here\n",
    "#import matplotlib.pyplot as plt\n",
    "#word_df.plot.bar(x='word',y='frequency')\n",
    "#plt.bar(x=word,y=frequency,data=top_25)"
   ]
  },
  {
   "cell_type": "markdown",
   "metadata": {},
   "source": [
    "## Exercise 8.2 \n",
    "### IRIS\n",
    "Do the following:\n",
    "- Load the **iris.csv** dataset into a numpy array. The first 4 columns are the  features/attributes. The last column is the class. Simply load the class as a list of strings. You can use the CVS method to load the features into a list of lists (X) and to load the gold label as a list (y). Then, convert X and y into a numpy array (hint: use np.array() for the conversion).\n",
    "- Use train_test_split() to split the iris dataset into train and test. (use 0.2 for the test_size)\n",
    "- Train an SVM classifier on the train split and evaluate it using accuracy on the test split.\n",
    "- Try using a different classifier, a random forest, and see how it compares to the SVM classifier.  \n",
    "  \n",
    "Note that this is a toy dataset, so all scores will be high."
   ]
  },
  {
   "cell_type": "code",
   "execution_count": 10,
   "metadata": {},
   "outputs": [],
   "source": [
    "## STep 1 Load the data\n",
    "import csv\n",
    "from csv import reader\n",
    "import numpy as np\n",
    "\n",
    "X = [] # Will be a list of lists\n",
    "y = [] # will be a list\n",
    "\n",
    "## Write below your code\n",
    "# read csv file as a list of lists\n",
    "fhand=open('iris.csv', 'r')\n",
    "for line in reader(fhand):\n",
    "    X.append(line[0:3]),y.append(line[-1])\n",
    "X,y=np.array(X),np.array(y)          "
   ]
  },
  {
   "cell_type": "code",
   "execution_count": 11,
   "metadata": {},
   "outputs": [],
   "source": [
    "assert(len(set(y))==3)"
   ]
  },
  {
   "cell_type": "code",
   "execution_count": 12,
   "metadata": {},
   "outputs": [],
   "source": [
    "### Step 2: Split data in train and test\n",
    "from sklearn.model_selection import train_test_split\n",
    "\n",
    "# Write your code here\n",
    "X_train,X_test,y_train,y_test=train_test_split(X,y,test_size=0.2)"
   ]
  },
  {
   "cell_type": "code",
   "execution_count": 13,
   "metadata": {},
   "outputs": [
    {
     "name": "stdout",
     "output_type": "stream",
     "text": [
      "accuracy: 1.0\n"
     ]
    }
   ],
   "source": [
    "### Step 3: Train a SVM classifier, predict the labels, and calculate the accuracy\n",
    "from sklearn.svm import SVC\n",
    "from sklearn.metrics import accuracy_score\n",
    "\n",
    "# Write your code here\n",
    "clf = SVC(C=1.0) \n",
    "clf.fit(X_train,y_train)\n",
    "y_pred=clf.predict(X_test)\n",
    "accuracy=accuracy_score(y_test,y_pred)\n",
    "print(\"accuracy: {}\".format(accuracy))"
   ]
  },
  {
   "cell_type": "code",
   "execution_count": 14,
   "metadata": {},
   "outputs": [
    {
     "name": "stdout",
     "output_type": "stream",
     "text": [
      "accuracy: 0.9\n"
     ]
    }
   ],
   "source": [
    "### Step 4: Train a Random Forest Classifier, predict the labels, measure the accuracy, and print the classification_report\n",
    "from sklearn.ensemble import RandomForestClassifier\n",
    "from sklearn.metrics import classification_report, confusion_matrix, accuracy_score\n",
    "\n",
    "# Write your code here\n",
    "rf=RandomForestClassifier(n_estimators=200)\n",
    "rf.fit(X_train,y_train)\n",
    "y_pred=rf.predict(X_test)\n",
    "accuracy= accuracy_score(y_test,y_pred)\n",
    "print(\"accuracy: {}\".format(accuracy))"
   ]
  },
  {
   "cell_type": "code",
   "execution_count": null,
   "metadata": {},
   "outputs": [],
   "source": []
  }
 ],
 "metadata": {
  "kernelspec": {
   "display_name": "Python 3",
   "language": "python",
   "name": "python3"
  },
  "language_info": {
   "codemirror_mode": {
    "name": "ipython",
    "version": 3
   },
   "file_extension": ".py",
   "mimetype": "text/x-python",
   "name": "python",
   "nbconvert_exporter": "python",
   "pygments_lexer": "ipython3",
   "version": "3.7.6"
  },
  "varInspector": {
   "cols": {
    "lenName": 16,
    "lenType": 16,
    "lenVar": 40
   },
   "kernels_config": {
    "python": {
     "delete_cmd_postfix": "",
     "delete_cmd_prefix": "del ",
     "library": "var_list.py",
     "varRefreshCmd": "print(var_dic_list())"
    },
    "r": {
     "delete_cmd_postfix": ") ",
     "delete_cmd_prefix": "rm(",
     "library": "var_list.r",
     "varRefreshCmd": "cat(var_dic_list()) "
    }
   },
   "types_to_exclude": [
    "module",
    "function",
    "builtin_function_or_method",
    "instance",
    "_Feature"
   ],
   "window_display": false
  }
 },
 "nbformat": 4,
 "nbformat_minor": 4
}
