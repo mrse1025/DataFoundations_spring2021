{
 "cells": [
  {
   "cell_type": "markdown",
   "metadata": {},
   "source": [
    "# Victoria Espinola\n",
    "### BNQ164\n",
    "# Lab05\n",
    "### IS6713  \n",
    "\n",
    "Instructions:\n",
    "1. Add the lines of code required to obtain the requested output. You can also insert new cells, if you need to.\n",
    "\n",
    "2. The code should be inserted where requested   \n",
    "   \n",
    "3. Do not modify other parts of this notebook.  \n",
    "  \n",
    "4. Remember to write in your name and abc123 in the first cell of this notebook.\n",
    "  \n",
    "5. Upload the notebook on Blackboard before the deadline!\n",
    "__________________________________________________________"
   ]
  },
  {
   "cell_type": "markdown",
   "metadata": {},
   "source": [
    "# Exercise 5.1\n",
    "\n",
    "Write a program that downloads and counts the total number of words in 'http://data.pr4e.org/romeo.txt'."
   ]
  },
  {
   "cell_type": "code",
   "execution_count": 1,
   "metadata": {},
   "outputs": [],
   "source": [
    "import urllib.parse, urllib.request\n",
    "import re\n",
    "\n",
    "url = \"http://data.pr4e.org/romeo.txt\""
   ]
  },
  {
   "cell_type": "code",
   "execution_count": 1,
   "metadata": {},
   "outputs": [
    {
     "name": "stdout",
     "output_type": "stream",
     "text": [
      "33\n"
     ]
    }
   ],
   "source": [
    "# Write code here\n",
    "import urllib.request\n",
    "fhand=urllib.request.urlopen('http://data.pr4e.org/romeo.txt')\n",
    "count = 0\n",
    "for line in fhand:\n",
    "    x= (line.decode().strip())\n",
    "    for word in (x.split()):\n",
    "        count += 1\n",
    "print(count)"
   ]
  },
  {
   "cell_type": "markdown",
   "metadata": {},
   "source": [
    "## Exercise 5.2\n",
    "Write code to query http://duckduckgo.com/html/ with the key query \"data science\".  Parse the resulting page by returning all the **unique** web URLs. Return only the base URLs (http://duckduckgo.com, www.duckduckgo.com, ...)\n",
    "        \n",
    "hint: Use re.findall()"
   ]
  },
  {
   "cell_type": "code",
   "execution_count": 9,
   "metadata": {},
   "outputs": [],
   "source": [
    "import urllib.parse, urllib.request\n",
    "from bs4 import BeautifulSoup\n",
    "import re\n",
    "\n",
    "#<table class=\"wikitable sortable jquery-tablesorter\">\n",
    "\n",
    "baseurl = \"http://duckduckgo.com/html/\""
   ]
  },
  {
   "cell_type": "code",
   "execution_count": 19,
   "metadata": {},
   "outputs": [
    {
     "name": "stdout",
     "output_type": "stream",
     "text": [
      "{'https://i.duckduckgo', 'https://en.wikipedia'}\n"
     ]
    }
   ],
   "source": [
    "# Write code here\n",
    "\n",
    "mySearch = {'q': 'data science'}\n",
    "\n",
    "url = baseurl + '?' + urllib.parse.urlencode(mySearch)\n",
    "\n",
    "html = urllib.request.urlopen(url).read()\n",
    "\n",
    "matches = re.findall('https://[a-z]+\\.[a-z]+', html.decode())\n",
    "print(set(matches))\n",
    "\n"
   ]
  },
  {
   "cell_type": "markdown",
   "metadata": {},
   "source": [
    "## Exercise 5.3\n",
    "\n",
    "Find another table on Wikipedia and use the BeautifulSoup package to parse the table."
   ]
  },
  {
   "cell_type": "code",
   "execution_count": 13,
   "metadata": {},
   "outputs": [],
   "source": [
    "import urllib\n",
    "from bs4 import BeautifulSoup\n",
    "\n",
    "# you are encouraged changing the following url to try different tables\n",
    "#url1 = 'https://en.wikipedia.org/wiki/Aircraft_carrier'\n",
    "#url1= 'https://en.wikipedia.org/wiki/List_of_African_countries_by_area'\n",
    "url1= 'https://en.wikipedia.org/wiki/List_of_regions_of_the_United_Kingdom_by_GRP_per_capita'"
   ]
  },
  {
   "cell_type": "code",
   "execution_count": 14,
   "metadata": {},
   "outputs": [],
   "source": [
    "#Write code here\n",
    "html1 = urllib.request.urlopen(url1).read()\n",
    "soup = BeautifulSoup(html1, 'lxml')\n",
    "#print(soup.prettify())"
   ]
  },
  {
   "cell_type": "code",
   "execution_count": 15,
   "metadata": {},
   "outputs": [
    {
     "name": "stdout",
     "output_type": "stream",
     "text": [
      "[]\n",
      "['CV', 'Generic aircraft carrier']\n",
      "['CVA', 'Attack carrier']\n",
      "['CVB', 'Large aircraft carrier (retired)']\n",
      "['CVAN', 'Nuclear-powered attack carrier']\n",
      "['CVE', 'Escort carrier']\n",
      "['CVG', 'Flight deck cruiser (proposed)']\n",
      "['CVHA', 'Aircraft carrier, Helicopter Assault (retired)']\n",
      "['CVHE', 'Aircraft carrier, Helicopter, Escort (retired)']\n",
      "['CVV', 'Aircraft Carrier (Medium) (proposed)']\n",
      "['CVL', 'Light aircraft carrier']\n",
      "['CVN', 'Nuclear-powered aircraft carrier']\n",
      "['CVS', 'Anti-submarine warfare carrier']\n",
      "['CVT', 'Training Aircraft Carrier']\n",
      "['LHA', 'Landing Helicopter Assault, a type of amphibious assault ship']\n",
      "['LHD', 'Landing Helicopter Dock, a type of amphibious assault ship']\n",
      "['LPH', 'Landing Platform Helicopter, a type of amphibious assault ship']\n"
     ]
    }
   ],
   "source": [
    "myTable = soup.find('table', {'class':'wikitable'})\n",
    "tbody = myTable.find('tbody')\n",
    "rows= tbody.find_all('tr')\n",
    "for row in rows:\n",
    "    cols = row.find_all('td')\n",
    "    cols = [ele.text.strip() for ele in cols]\n",
    "    print(cols)"
   ]
  },
  {
   "cell_type": "code",
   "execution_count": null,
   "metadata": {},
   "outputs": [],
   "source": []
  }
 ],
 "metadata": {
  "kernelspec": {
   "display_name": "Python 3",
   "language": "python",
   "name": "python3"
  },
  "language_info": {
   "codemirror_mode": {
    "name": "ipython",
    "version": 3
   },
   "file_extension": ".py",
   "mimetype": "text/x-python",
   "name": "python",
   "nbconvert_exporter": "python",
   "pygments_lexer": "ipython3",
   "version": "3.8.5"
  },
  "varInspector": {
   "cols": {
    "lenName": 16,
    "lenType": 16,
    "lenVar": 40
   },
   "kernels_config": {
    "python": {
     "delete_cmd_postfix": "",
     "delete_cmd_prefix": "del ",
     "library": "var_list.py",
     "varRefreshCmd": "print(var_dic_list())"
    },
    "r": {
     "delete_cmd_postfix": ") ",
     "delete_cmd_prefix": "rm(",
     "library": "var_list.r",
     "varRefreshCmd": "cat(var_dic_list()) "
    }
   },
   "types_to_exclude": [
    "module",
    "function",
    "builtin_function_or_method",
    "instance",
    "_Feature"
   ],
   "window_display": false
  }
 },
 "nbformat": 4,
 "nbformat_minor": 2
}
