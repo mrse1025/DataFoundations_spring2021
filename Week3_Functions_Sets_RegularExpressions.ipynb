{
 "cells": [
  {
   "cell_type": "code",
   "execution_count": 1,
   "metadata": {},
   "outputs": [
    {
     "data": {
      "text/plain": [
       "datetime.date(2021, 2, 7)"
      ]
     },
     "execution_count": 1,
     "metadata": {},
     "output_type": "execute_result"
    }
   ],
   "source": [
    "#function name()\n",
    "from datetime import date\n",
    "date.today() #no arguement needed, since it is part of the function"
   ]
  },
  {
   "cell_type": "code",
   "execution_count": 2,
   "metadata": {},
   "outputs": [
    {
     "data": {
      "text/plain": [
       "6"
      ]
     },
     "execution_count": 2,
     "metadata": {},
     "output_type": "execute_result"
    }
   ],
   "source": [
    "def twice(num):\n",
    "    return num *2\n",
    "\n",
    "twice(3)"
   ]
  },
  {
   "cell_type": "code",
   "execution_count": 3,
   "metadata": {},
   "outputs": [
    {
     "data": {
      "text/plain": [
       "32"
      ]
     },
     "execution_count": 3,
     "metadata": {},
     "output_type": "execute_result"
    }
   ],
   "source": [
    "#function can be called multiple times and can be nested, will work from inside out\n",
    "twice(twice(twice(4)))"
   ]
  },
  {
   "cell_type": "code",
   "execution_count": 17,
   "metadata": {},
   "outputs": [
    {
     "data": {
      "text/plain": [
       "{'admin@redhat.org',\n",
       " 'gian@main99.org',\n",
       " 'gian@zan.org',\n",
       " 'main@venture.org',\n",
       " 'user@goo.gl',\n",
       " 'user@orby.com',\n",
       " 'users@orby.com'}"
      ]
     },
     "execution_count": 17,
     "metadata": {},
     "output_type": "execute_result"
    }
   ],
   "source": [
    "contacts=['gian@zan.org', 'users@orby.com', 'user@goo.gl', 'admin@redhat.org', 'gian@zan.org', 'user@orby.com', 'main@venture.org',\n",
    "         'user@goo.gl', 'users@orby.com','gian@main99.org']\n",
    "setContacts= set(contacts)\n",
    "setContacts\n",
    "set2= {x for x in contacts}\n",
    "set2"
   ]
  },
  {
   "cell_type": "code",
   "execution_count": 18,
   "metadata": {},
   "outputs": [],
   "source": [
    "str1=\"\"\"\"\n",
    "Python is an interpreted, high-level and general-purpose programming language. Python's design philosophy emphasizes code readability with its notable use of significant whitespace. Its language constructs and object-oriented approach aim to help programmers write clear, logical code for small and large-scale projects.[30]\n",
    "Python is dynamically-typed and garbage-collected. It supports multiple programming paradigms, including structured (particularly, procedural), object-oriented and functional programming. Python is often described as a \"batteries included\" language due to its comprehensive standard library.[31]\n",
    "Python was created in the late 1980s, and first released in 1991, by Guido van Rossum as a successor to the ABC programming language. Python 2.0, released in 2000, introduced new features, such as list comprehensions, and a garbage collection system with reference counting, and was discontinued with version 2.7 in 2020.[32] Python 3.0, released in 2008, was a major revision of the language that is not completely backward-compatible and much Python 2 code does not run unmodified on Python 3. With Python 2's end-of-life (and pip having dropped support in 2021[33]), only Python 3.6.x[34] and later are supported, with older versions still supporting e.g. Windows 7 (and old installers not restricted to 64-bit Windows).\n",
    "Python interpreters are supported for mainstream operating systems and available for a few more (and in the past supported many more). A global community of programmers develops and maintains CPython, a free and open-source[35] reference implementation. A non-profit organization, the Python Software Foundation, manages and directs resources for Python and CPython development.\n",
    "As of January 2021, Python ranks third in TIOBE’s index of most popular programming languages, behind C and Java,[36] having previously gained second place and their award for the most popularity gain for 2020.[37]\n",
    "\"\"\"\n"
   ]
  },
  {
   "cell_type": "code",
   "execution_count": 19,
   "metadata": {},
   "outputs": [
    {
     "name": "stdout",
     "output_type": "stream",
     "text": [
      "  python is an interpreted  high level and general purpose programming language  python s design philosophy emphasizes code readability with its notable use of significant whitespace  its language constructs and object oriented approach aim to help programmers write clear  logical code for small and large scale projects  30  python is dynamically typed and garbage collected  it supports multiple programming paradigms  including structured  particularly  procedural   object oriented and functional programming  python is often described as a  batteries included  language due to its comprehensive standard library  31  python was created in the late 1980s  and first released in 1991  by guido van rossum as a successor to the abc programming language  python 2 0  released in 2000  introduced new features  such as list comprehensions  and a garbage collection system with reference counting  and was discontinued with version 2 7 in 2020  32  python 3 0  released in 2008  was a major revision of the language that is not completely backward compatible and much python 2 code does not run unmodified on python 3  with python 2 s end of life  and pip having dropped support in 2021 33    only python 3 6 x 34  and later are supported  with older versions still supporting e g  windows 7  and old installers not restricted to 64 bit windows   python interpreters are supported for mainstream operating systems and available for a few more  and in the past supported many more   a global community of programmers develops and maintains cpython  a free and open source 35  reference implementation  a non profit organization  the python software foundation  manages and directs resources for python and cpython development  as of january 2021  python ranks third in tiobe s index of most popular programming languages  behind c and java  36  having previously gained second place and their award for the most popularity gain for 2020  37  \n"
     ]
    }
   ],
   "source": [
    "import re\n",
    "myStr1 = re.sub(r\"[^a-z0-9 ]\", \" \", str1.lower()) #the take the string and makes it lower case, only keeps characters a-z and numbers 0-9\n",
    "print(myStr1)"
   ]
  },
  {
   "cell_type": "code",
   "execution_count": 20,
   "metadata": {},
   "outputs": [
    {
     "data": {
      "text/plain": [
       "['python',\n",
       " 'is',\n",
       " 'an',\n",
       " 'interpreted',\n",
       " 'high',\n",
       " 'level',\n",
       " 'and',\n",
       " 'general',\n",
       " 'purpose',\n",
       " 'programming',\n",
       " 'language',\n",
       " 'python',\n",
       " 's',\n",
       " 'design',\n",
       " 'philosophy',\n",
       " 'emphasizes',\n",
       " 'code',\n",
       " 'readability',\n",
       " 'with',\n",
       " 'its',\n",
       " 'notable',\n",
       " 'use',\n",
       " 'of',\n",
       " 'significant',\n",
       " 'whitespace',\n",
       " 'its',\n",
       " 'language',\n",
       " 'constructs',\n",
       " 'and',\n",
       " 'object',\n",
       " 'oriented',\n",
       " 'approach',\n",
       " 'aim',\n",
       " 'to',\n",
       " 'help',\n",
       " 'programmers',\n",
       " 'write',\n",
       " 'clear',\n",
       " 'logical',\n",
       " 'code',\n",
       " 'for',\n",
       " 'small',\n",
       " 'and',\n",
       " 'large',\n",
       " 'scale',\n",
       " 'projects',\n",
       " '30',\n",
       " 'python',\n",
       " 'is',\n",
       " 'dynamically',\n",
       " 'typed',\n",
       " 'and',\n",
       " 'garbage',\n",
       " 'collected',\n",
       " 'it',\n",
       " 'supports',\n",
       " 'multiple',\n",
       " 'programming',\n",
       " 'paradigms',\n",
       " 'including',\n",
       " 'structured',\n",
       " 'particularly',\n",
       " 'procedural',\n",
       " 'object',\n",
       " 'oriented',\n",
       " 'and',\n",
       " 'functional',\n",
       " 'programming',\n",
       " 'python',\n",
       " 'is',\n",
       " 'often',\n",
       " 'described',\n",
       " 'as',\n",
       " 'a',\n",
       " 'batteries',\n",
       " 'included',\n",
       " 'language',\n",
       " 'due',\n",
       " 'to',\n",
       " 'its',\n",
       " 'comprehensive',\n",
       " 'standard',\n",
       " 'library',\n",
       " '31',\n",
       " 'python',\n",
       " 'was',\n",
       " 'created',\n",
       " 'in',\n",
       " 'the',\n",
       " 'late',\n",
       " '1980s',\n",
       " 'and',\n",
       " 'first',\n",
       " 'released',\n",
       " 'in',\n",
       " '1991',\n",
       " 'by',\n",
       " 'guido',\n",
       " 'van',\n",
       " 'rossum',\n",
       " 'as',\n",
       " 'a',\n",
       " 'successor',\n",
       " 'to',\n",
       " 'the',\n",
       " 'abc',\n",
       " 'programming',\n",
       " 'language',\n",
       " 'python',\n",
       " '2',\n",
       " '0',\n",
       " 'released',\n",
       " 'in',\n",
       " '2000',\n",
       " 'introduced',\n",
       " 'new',\n",
       " 'features',\n",
       " 'such',\n",
       " 'as',\n",
       " 'list',\n",
       " 'comprehensions',\n",
       " 'and',\n",
       " 'a',\n",
       " 'garbage',\n",
       " 'collection',\n",
       " 'system',\n",
       " 'with',\n",
       " 'reference',\n",
       " 'counting',\n",
       " 'and',\n",
       " 'was',\n",
       " 'discontinued',\n",
       " 'with',\n",
       " 'version',\n",
       " '2',\n",
       " '7',\n",
       " 'in',\n",
       " '2020',\n",
       " '32',\n",
       " 'python',\n",
       " '3',\n",
       " '0',\n",
       " 'released',\n",
       " 'in',\n",
       " '2008',\n",
       " 'was',\n",
       " 'a',\n",
       " 'major',\n",
       " 'revision',\n",
       " 'of',\n",
       " 'the',\n",
       " 'language',\n",
       " 'that',\n",
       " 'is',\n",
       " 'not',\n",
       " 'completely',\n",
       " 'backward',\n",
       " 'compatible',\n",
       " 'and',\n",
       " 'much',\n",
       " 'python',\n",
       " '2',\n",
       " 'code',\n",
       " 'does',\n",
       " 'not',\n",
       " 'run',\n",
       " 'unmodified',\n",
       " 'on',\n",
       " 'python',\n",
       " '3',\n",
       " 'with',\n",
       " 'python',\n",
       " '2',\n",
       " 's',\n",
       " 'end',\n",
       " 'of',\n",
       " 'life',\n",
       " 'and',\n",
       " 'pip',\n",
       " 'having',\n",
       " 'dropped',\n",
       " 'support',\n",
       " 'in',\n",
       " '2021',\n",
       " '33',\n",
       " 'only',\n",
       " 'python',\n",
       " '3',\n",
       " '6',\n",
       " 'x',\n",
       " '34',\n",
       " 'and',\n",
       " 'later',\n",
       " 'are',\n",
       " 'supported',\n",
       " 'with',\n",
       " 'older',\n",
       " 'versions',\n",
       " 'still',\n",
       " 'supporting',\n",
       " 'e',\n",
       " 'g',\n",
       " 'windows',\n",
       " '7',\n",
       " 'and',\n",
       " 'old',\n",
       " 'installers',\n",
       " 'not',\n",
       " 'restricted',\n",
       " 'to',\n",
       " '64',\n",
       " 'bit',\n",
       " 'windows',\n",
       " 'python',\n",
       " 'interpreters',\n",
       " 'are',\n",
       " 'supported',\n",
       " 'for',\n",
       " 'mainstream',\n",
       " 'operating',\n",
       " 'systems',\n",
       " 'and',\n",
       " 'available',\n",
       " 'for',\n",
       " 'a',\n",
       " 'few',\n",
       " 'more',\n",
       " 'and',\n",
       " 'in',\n",
       " 'the',\n",
       " 'past',\n",
       " 'supported',\n",
       " 'many',\n",
       " 'more',\n",
       " 'a',\n",
       " 'global',\n",
       " 'community',\n",
       " 'of',\n",
       " 'programmers',\n",
       " 'develops',\n",
       " 'and',\n",
       " 'maintains',\n",
       " 'cpython',\n",
       " 'a',\n",
       " 'free',\n",
       " 'and',\n",
       " 'open',\n",
       " 'source',\n",
       " '35',\n",
       " 'reference',\n",
       " 'implementation',\n",
       " 'a',\n",
       " 'non',\n",
       " 'profit',\n",
       " 'organization',\n",
       " 'the',\n",
       " 'python',\n",
       " 'software',\n",
       " 'foundation',\n",
       " 'manages',\n",
       " 'and',\n",
       " 'directs',\n",
       " 'resources',\n",
       " 'for',\n",
       " 'python',\n",
       " 'and',\n",
       " 'cpython',\n",
       " 'development',\n",
       " 'as',\n",
       " 'of',\n",
       " 'january',\n",
       " '2021',\n",
       " 'python',\n",
       " 'ranks',\n",
       " 'third',\n",
       " 'in',\n",
       " 'tiobe',\n",
       " 's',\n",
       " 'index',\n",
       " 'of',\n",
       " 'most',\n",
       " 'popular',\n",
       " 'programming',\n",
       " 'languages',\n",
       " 'behind',\n",
       " 'c',\n",
       " 'and',\n",
       " 'java',\n",
       " '36',\n",
       " 'having',\n",
       " 'previously',\n",
       " 'gained',\n",
       " 'second',\n",
       " 'place',\n",
       " 'and',\n",
       " 'their',\n",
       " 'award',\n",
       " 'for',\n",
       " 'the',\n",
       " 'most',\n",
       " 'popularity',\n",
       " 'gain',\n",
       " 'for',\n",
       " '2020',\n",
       " '37']"
      ]
     },
     "execution_count": 20,
     "metadata": {},
     "output_type": "execute_result"
    }
   ],
   "source": [
    "listofwords= myStr1.split(\" \")\n",
    "listofwords= [x for x in listofwords if x.strip() !='']\n",
    "listofwords #list has only words that are in the list and not additional spaces or extra spaces"
   ]
  },
  {
   "cell_type": "code",
   "execution_count": 21,
   "metadata": {},
   "outputs": [
    {
     "name": "stdout",
     "output_type": "stream",
     "text": [
      "305\n"
     ]
    }
   ],
   "source": [
    "print(len(listofwords))"
   ]
  },
  {
   "cell_type": "code",
   "execution_count": 22,
   "metadata": {},
   "outputs": [
    {
     "data": {
      "text/plain": [
       "{'0',\n",
       " '1980s',\n",
       " '1991',\n",
       " '2',\n",
       " '2000',\n",
       " '2008',\n",
       " '2020',\n",
       " '2021',\n",
       " '3',\n",
       " '30',\n",
       " '31',\n",
       " '32',\n",
       " '33',\n",
       " '34',\n",
       " '35',\n",
       " '36',\n",
       " '37',\n",
       " '6',\n",
       " '64',\n",
       " '7',\n",
       " 'a',\n",
       " 'abc',\n",
       " 'aim',\n",
       " 'an',\n",
       " 'and',\n",
       " 'approach',\n",
       " 'are',\n",
       " 'as',\n",
       " 'available',\n",
       " 'award',\n",
       " 'backward',\n",
       " 'batteries',\n",
       " 'behind',\n",
       " 'bit',\n",
       " 'by',\n",
       " 'c',\n",
       " 'clear',\n",
       " 'code',\n",
       " 'collected',\n",
       " 'collection',\n",
       " 'community',\n",
       " 'compatible',\n",
       " 'completely',\n",
       " 'comprehensions',\n",
       " 'comprehensive',\n",
       " 'constructs',\n",
       " 'counting',\n",
       " 'cpython',\n",
       " 'created',\n",
       " 'described',\n",
       " 'design',\n",
       " 'development',\n",
       " 'develops',\n",
       " 'directs',\n",
       " 'discontinued',\n",
       " 'does',\n",
       " 'dropped',\n",
       " 'due',\n",
       " 'dynamically',\n",
       " 'e',\n",
       " 'emphasizes',\n",
       " 'end',\n",
       " 'features',\n",
       " 'few',\n",
       " 'first',\n",
       " 'for',\n",
       " 'foundation',\n",
       " 'free',\n",
       " 'functional',\n",
       " 'g',\n",
       " 'gain',\n",
       " 'gained',\n",
       " 'garbage',\n",
       " 'general',\n",
       " 'global',\n",
       " 'guido',\n",
       " 'having',\n",
       " 'help',\n",
       " 'high',\n",
       " 'implementation',\n",
       " 'in',\n",
       " 'included',\n",
       " 'including',\n",
       " 'index',\n",
       " 'installers',\n",
       " 'interpreted',\n",
       " 'interpreters',\n",
       " 'introduced',\n",
       " 'is',\n",
       " 'it',\n",
       " 'its',\n",
       " 'january',\n",
       " 'java',\n",
       " 'language',\n",
       " 'languages',\n",
       " 'large',\n",
       " 'late',\n",
       " 'later',\n",
       " 'level',\n",
       " 'library',\n",
       " 'life',\n",
       " 'list',\n",
       " 'logical',\n",
       " 'mainstream',\n",
       " 'maintains',\n",
       " 'major',\n",
       " 'manages',\n",
       " 'many',\n",
       " 'more',\n",
       " 'most',\n",
       " 'much',\n",
       " 'multiple',\n",
       " 'new',\n",
       " 'non',\n",
       " 'not',\n",
       " 'notable',\n",
       " 'object',\n",
       " 'of',\n",
       " 'often',\n",
       " 'old',\n",
       " 'older',\n",
       " 'on',\n",
       " 'only',\n",
       " 'open',\n",
       " 'operating',\n",
       " 'organization',\n",
       " 'oriented',\n",
       " 'paradigms',\n",
       " 'particularly',\n",
       " 'past',\n",
       " 'philosophy',\n",
       " 'pip',\n",
       " 'place',\n",
       " 'popular',\n",
       " 'popularity',\n",
       " 'previously',\n",
       " 'procedural',\n",
       " 'profit',\n",
       " 'programmers',\n",
       " 'programming',\n",
       " 'projects',\n",
       " 'purpose',\n",
       " 'python',\n",
       " 'ranks',\n",
       " 'readability',\n",
       " 'reference',\n",
       " 'released',\n",
       " 'resources',\n",
       " 'restricted',\n",
       " 'revision',\n",
       " 'rossum',\n",
       " 'run',\n",
       " 's',\n",
       " 'scale',\n",
       " 'second',\n",
       " 'significant',\n",
       " 'small',\n",
       " 'software',\n",
       " 'source',\n",
       " 'standard',\n",
       " 'still',\n",
       " 'structured',\n",
       " 'successor',\n",
       " 'such',\n",
       " 'support',\n",
       " 'supported',\n",
       " 'supporting',\n",
       " 'supports',\n",
       " 'system',\n",
       " 'systems',\n",
       " 'that',\n",
       " 'the',\n",
       " 'their',\n",
       " 'third',\n",
       " 'tiobe',\n",
       " 'to',\n",
       " 'typed',\n",
       " 'unmodified',\n",
       " 'use',\n",
       " 'van',\n",
       " 'version',\n",
       " 'versions',\n",
       " 'was',\n",
       " 'whitespace',\n",
       " 'windows',\n",
       " 'with',\n",
       " 'write',\n",
       " 'x'}"
      ]
     },
     "execution_count": 22,
     "metadata": {},
     "output_type": "execute_result"
    }
   ],
   "source": [
    "voc=set(listofwords)\n",
    "voc"
   ]
  },
  {
   "cell_type": "code",
   "execution_count": 23,
   "metadata": {},
   "outputs": [
    {
     "name": "stdout",
     "output_type": "stream",
     "text": [
      "188\n"
     ]
    }
   ],
   "source": [
    "print(len(voc))"
   ]
  },
  {
   "cell_type": "code",
   "execution_count": 27,
   "metadata": {},
   "outputs": [
    {
     "name": "stdout",
     "output_type": "stream",
     "text": [
      "main@venture.org\n",
      "gian@main99.org\n"
     ]
    }
   ],
   "source": [
    "for x in contacts:\n",
    "    if re.search('main', x):\n",
    "        print(x)"
   ]
  },
  {
   "cell_type": "code",
   "execution_count": 26,
   "metadata": {},
   "outputs": [
    {
     "name": "stdout",
     "output_type": "stream",
     "text": [
      "main@venture.org\n",
      "gian@main99.org\n"
     ]
    }
   ],
   "source": [
    "for x in contacts:\n",
    "    if re.search(r'\\bmain', x):\n",
    "        print(x)"
   ]
  },
  {
   "cell_type": "code",
   "execution_count": 28,
   "metadata": {},
   "outputs": [
    {
     "name": "stdout",
     "output_type": "stream",
     "text": [
      "gian@main99.org\n"
     ]
    }
   ],
   "source": [
    "for x in contacts:\n",
    "    if re.search(r'\\bmain[a-zA-Z0-9_]', x):\n",
    "        print(x)"
   ]
  },
  {
   "cell_type": "code",
   "execution_count": 29,
   "metadata": {},
   "outputs": [
    {
     "name": "stdout",
     "output_type": "stream",
     "text": [
      "main@venture.org\n",
      "gian@main99.org\n"
     ]
    }
   ],
   "source": [
    "for x in contacts:\n",
    "    if re.search(r'\\bmain[a-zA-Z0-9_]*', x):\n",
    "        print(x)"
   ]
  },
  {
   "cell_type": "code",
   "execution_count": 30,
   "metadata": {},
   "outputs": [
    {
     "name": "stdout",
     "output_type": "stream",
     "text": [
      "main@venture.org\n"
     ]
    }
   ],
   "source": [
    "for x in contacts:\n",
    "    if re.search(r'\\bmain[a-zA-Z0-9_]*@\\w+', x):\n",
    "        print(x)"
   ]
  },
  {
   "cell_type": "code",
   "execution_count": 40,
   "metadata": {},
   "outputs": [
    {
     "data": {
      "text/plain": [
       "['(210) 444-1111', '(388)112 2222', '(321) 1123333']"
      ]
     },
     "execution_count": 40,
     "metadata": {},
     "output_type": "execute_result"
    }
   ],
   "source": [
    "s = '(210) 444-1111; (388)112 2222; (321) 1123333; (322)112-222'\n",
    "re.findall(r'\\(\\d\\d\\d\\)[ -]*\\d\\d\\d[ -]*\\d\\d\\d\\d',s)"
   ]
  },
  {
   "cell_type": "code",
   "execution_count": null,
   "metadata": {},
   "outputs": [],
   "source": []
  }
 ],
 "metadata": {
  "kernelspec": {
   "display_name": "Python 3",
   "language": "python",
   "name": "python3"
  },
  "language_info": {
   "codemirror_mode": {
    "name": "ipython",
    "version": 3
   },
   "file_extension": ".py",
   "mimetype": "text/x-python",
   "name": "python",
   "nbconvert_exporter": "python",
   "pygments_lexer": "ipython3",
   "version": "3.8.5"
  }
 },
 "nbformat": 4,
 "nbformat_minor": 4
}
