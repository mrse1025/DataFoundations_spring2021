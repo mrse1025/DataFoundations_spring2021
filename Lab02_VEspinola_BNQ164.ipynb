{
 "cells": [
  {
   "cell_type": "markdown",
   "metadata": {},
   "source": [
    "# Lab 02\n",
    "### IS6713 - Data Foundations  \n",
    "\n",
    "Instructions:\n",
    "1. Add the lines of code required to obtain the requested output.\n",
    "2. The code should be inserted between the tags:   \n",
    "  \n",
    "    <**Insert (modify) your code below**>  \n",
    "\n",
    "    #insert you code here  \n",
    "\n",
    "    <**Insert (modify) your code above**>  \n",
    "    \n",
    "3. Do not modify other parts of this notebook.  \n",
    "  \n",
    "4. Remember to write in your name and abc123 in the first cell of this notebook.\n",
    "  \n",
    "5. Upload the notebook on Blackboard before the deadline!"
   ]
  },
  {
   "cell_type": "markdown",
   "metadata": {},
   "source": [
    "# Introduction to Python II\n",
    "\n",
    "week 2 - Programming with Python"
   ]
  },
  {
   "cell_type": "code",
   "execution_count": 1,
   "metadata": {},
   "outputs": [],
   "source": [
    "# Your Name: Victoria Espinola\n",
    "# abc 123: BNQ164"
   ]
  },
  {
   "cell_type": "markdown",
   "metadata": {},
   "source": [
    "## Exercise 1: Putting it all together\n",
    "\n",
    "Write a program that does the following:\n",
    "\n",
    "- Prints the numbers 1 to 100\n",
    "- For the  numbers 10 to 25 (including 10 and 25), instead of printing the number, print the word \"cheese\".\n",
    "- For numbers 55 to 100 (including 55, but not including 100), instead of printing the number, print the word \"cake\".\n",
    "- For 100 print the word \"Done!\".\n",
    "\n",
    "**Important Python concepts:** print(), if, elif, else, for"
   ]
  },
  {
   "cell_type": "code",
   "execution_count": 2,
   "metadata": {},
   "outputs": [],
   "source": [
    "#Insert/modify your code below\n",
    "cnt=0\n",
    "while cnt <100: \n",
    "    cnt += 1\n",
    "    if cnt <10:\n",
    "        print(cnt)\n",
    "    elif cnt >= 10 and cnt <= 25:\n",
    "        print(\"cheese\")\n",
    "    elif cnt >25 and cnt<55:\n",
    "        print(cnt)\n",
    "    elif cnt >= 55 and cnt < 100:\n",
    "        print(\"cake\")\n",
    "    else:\n",
    "        print(\"Done\")\n",
    "  \n",
    "#Insert/modify your code above"
   ]
  },
  {
   "cell_type": "markdown",
   "metadata": {},
   "source": [
    "## Exercise 2\n",
    "\n",
    "Write a program which repeatedly reads numbers until the user enters “done”. Once “done” is entered, print out the total, count, and average of the numbers. If the user enters anything other than a number, detect their mistake using try and except and print an error message and skip to the next number.\n",
    "\n",
    "What the code should look like when running:\n",
    "```\n",
    "Enter a number: 4\n",
    "Enter a number: 5\n",
    "Enter a number: bad data\n",
    "Invalid input\n",
    "Enter a number: 7\n",
    "Enter a number: done\n",
    "16 3 5.33333333333\n",
    "```\n",
    "\n",
    "**Important Python concepts:** print(), try, except, break, while"
   ]
  },
  {
   "cell_type": "code",
   "execution_count": 6,
   "metadata": {},
   "outputs": [
    {
     "name": "stdout",
     "output_type": "stream",
     "text": [
      "Enter a number: 1\n",
      "Enter a number: 2\n",
      "Enter a number: 3\n",
      "Enter a number: 4\n",
      "Enter a number: 5\n",
      "Enter a number: six\n",
      "bad data: invalid input\n",
      "Enter a number: done\n",
      "Total:  20.0 count:  5 and the  average: 4.0\n"
     ]
    }
   ],
   "source": [
    "#Insert/modify your code below\n",
    "total=0\n",
    "count=0\n",
    "value=0\n",
    "while True: \n",
    "    inp=input(\"Enter a number: \")\n",
    "    if inp=='done':\n",
    "        break\n",
    "    try:\n",
    "        value=float(inp)\n",
    "        count=count+1\n",
    "    except:\n",
    "        print(\"bad data: invalid input\")\n",
    "\n",
    "    total=total+value\n",
    "            \n",
    "average=total/count\n",
    "print(\"Total: \", total, \"count: \", count, \"and the \", \"average:\", average)\n",
    "    \n",
    "#Insert/modify your code above"
   ]
  },
  {
   "cell_type": "markdown",
   "metadata": {},
   "source": [
    "## Here is another solution to study\n"
   ]
  },
  {
   "cell_type": "code",
   "execution_count": null,
   "metadata": {},
   "outputs": [],
   "source": [
    "# Here is one more solution to study\n"
   ]
  },
  {
   "cell_type": "markdown",
   "metadata": {},
   "source": [
    "## Exercise 3\n",
    "\n",
    "Write a program that counts how many times each letter appears in a string. The counts for each character should be stored in a dictionary where the character is the key and the value is the count. Print the dictionary at the end.\n",
    "\n",
    "Given the string **'aaabbc'**, the output should be a dictionary **{'a':3, 'b':2, 'c':1}**.\n",
    "\n",
    "We are effectively computing a histogram, which is a statistical term for a set of counters (or frequencies).\n",
    "\n",
    "**Important Python concepts:** dict ({}), for"
   ]
  },
  {
   "cell_type": "code",
   "execution_count": 8,
   "metadata": {},
   "outputs": [],
   "source": [
    "word = 'brontosaurus'"
   ]
  },
  {
   "cell_type": "code",
   "execution_count": 10,
   "metadata": {},
   "outputs": [],
   "source": [
    "# Write code to count the number of times each character appears in \"brontosaurus\" here\n",
    "d=dict()\n",
    "for l in word: \n",
    "    if l not in d:\n",
    "        d[l]=1\n",
    "    else: \n",
    "        d[1]=d[l]+1\n"
   ]
  },
  {
   "cell_type": "code",
   "execution_count": 11,
   "metadata": {},
   "outputs": [
    {
     "name": "stdout",
     "output_type": "stream",
     "text": [
      "{'b': 1, 'r': 1, 'o': 1, 'n': 1, 't': 1, 1: 2, 's': 1, 'a': 1, 'u': 1}\n"
     ]
    }
   ],
   "source": [
    "# Print dictionary here\n",
    "print(d)"
   ]
  },
  {
   "cell_type": "markdown",
   "metadata": {},
   "source": [
    "## Exercise 4\n",
    "\n",
    "Read the file 'mbox-short.txt' line-by-line and calculate (and print) the following:\n",
    "- The total number of lines in the file.\n",
    "- The number of lines that contain the substring 'From:'\n",
    "\n",
    "**Note:** When opening 'mbox-short.txt', use the path './mbox-short.txt'\n",
    "\n",
    "**Important Python concepts:** for, if, open(), \"in\" with strings."
   ]
  },
  {
   "cell_type": "code",
   "execution_count": 22,
   "metadata": {},
   "outputs": [],
   "source": [
    "# Write code to count the total number of lines (variable linesTotal) and the number of lines with \"From:\" (variable linesFrom)\n",
    "# Write the code here\n",
    "fhand= open('mbox-short.txt') #I have this file saved in my jupyter notebook\n",
    "#fhand = open('./mbox-short.txt')\n",
    "countline = 0\n",
    "countfrom = 0\n",
    "for line in fhand:\n",
    "    countline=countline+1\n",
    "    if line.startswith('From:'):\n",
    "        countfrom = countfrom + 1\n",
    "    "
   ]
  },
  {
   "cell_type": "code",
   "execution_count": 23,
   "metadata": {},
   "outputs": [
    {
     "name": "stdout",
     "output_type": "stream",
     "text": [
      "Line Count: 1910\n",
      "Lines with From:  27\n"
     ]
    }
   ],
   "source": [
    "# Print the two counts here\n",
    "print('Line Count:', countline)\n",
    "print('Lines with From: ', countfrom)"
   ]
  },
  {
   "cell_type": "code",
   "execution_count": null,
   "metadata": {},
   "outputs": [],
   "source": []
  }
 ],
 "metadata": {
  "kernelspec": {
   "display_name": "Python 3",
   "language": "python",
   "name": "python3"
  },
  "language_info": {
   "codemirror_mode": {
    "name": "ipython",
    "version": 3
   },
   "file_extension": ".py",
   "mimetype": "text/x-python",
   "name": "python",
   "nbconvert_exporter": "python",
   "pygments_lexer": "ipython3",
   "version": "3.8.5"
  },
  "varInspector": {
   "cols": {
    "lenName": 16,
    "lenType": 16,
    "lenVar": 40
   },
   "kernels_config": {
    "python": {
     "delete_cmd_postfix": "",
     "delete_cmd_prefix": "del ",
     "library": "var_list.py",
     "varRefreshCmd": "print(var_dic_list())"
    },
    "r": {
     "delete_cmd_postfix": ") ",
     "delete_cmd_prefix": "rm(",
     "library": "var_list.r",
     "varRefreshCmd": "cat(var_dic_list()) "
    }
   },
   "types_to_exclude": [
    "module",
    "function",
    "builtin_function_or_method",
    "instance",
    "_Feature"
   ],
   "window_display": false
  }
 },
 "nbformat": 4,
 "nbformat_minor": 2
}
