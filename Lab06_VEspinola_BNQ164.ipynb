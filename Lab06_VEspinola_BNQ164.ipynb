{
 "cells": [
  {
   "cell_type": "markdown",
   "metadata": {},
   "source": [
    "# Lab 06\n",
    "### IS6713 \n",
    "\n",
    "Instructions:\n",
    "1. Add the lines of code required to obtain the requested output.\n",
    "\n",
    "2. The code should be inserted where requested   \n",
    "   \n",
    "3. Do not modify other parts of this notebook.  \n",
    "  \n",
    "4. Remember to write in your name and abc123 in the first cell of this notebook.\n",
    "  \n",
    "5. Upload the notebook on Blackboard before the deadline!\n",
    "__________________________________________________________"
   ]
  },
  {
   "cell_type": "markdown",
   "metadata": {},
   "source": [
    "# Exercise 6.1\n",
    "\n",
    "The following code calculates the max value and the corresponding key in a frequency dictionary.  "
   ]
  },
  {
   "cell_type": "code",
   "execution_count": 1,
   "metadata": {},
   "outputs": [
    {
     "name": "stdout",
     "output_type": "stream",
     "text": [
      "The key E corresponds to the max value of 65.\n"
     ]
    }
   ],
   "source": [
    "freq = {'C': 43, 'F': 12, 'B':24, 'A': 9, 'G': 23, 'E': 65, 'D': 2, 'H': 43, 'I': 12, 'K':2, 'L': 7}\n",
    "maxValue, maxKey = 0, 0\n",
    "\n",
    "for k in freq:\n",
    "    if freq[k] > maxValue:\n",
    "        maxValue = freq[k]\n",
    "        maxKey = k\n",
    "\n",
    "print(\"The key {0} corresponds to the max value of {1}.\".format(maxKey, maxValue))"
   ]
  },
  {
   "cell_type": "markdown",
   "metadata": {},
   "source": [
    "Create a function **maxValKey** that does exactly the same with the following requirements:  \n",
    "- the dictionary is passed as the argument \"arg1\"\n",
    "- the function returns two values, maxValue and maxKey"
   ]
  },
  {
   "cell_type": "code",
   "execution_count": 2,
   "metadata": {},
   "outputs": [],
   "source": [
    "freq = {'C': 43, 'F': 12, 'B':24, 'A': 9, 'G': 23, 'E': 65, 'D': 2, 'H': 43, 'I': 12, 'K':2, 'L': 7}\n",
    "# Write your function here\n",
    "def maxValKey(arg1):\n",
    "    # write the code here\n",
    "    maxValue, maxKey = 0,0\n",
    "    \n",
    "    for x in arg1:\n",
    "        if arg1[x] > maxValue:\n",
    "            maxValue = arg1[x]\n",
    "            maxKey = x\n",
    "            \n",
    "    return maxValue,maxKey   # replace question marks with your variable' names\n"
   ]
  },
  {
   "cell_type": "markdown",
   "metadata": {},
   "source": [
    "Try the function.  \n",
    "The expected outcome is:  \n",
    "- \"The key E corresponds to the max value of 65.\""
   ]
  },
  {
   "cell_type": "code",
   "execution_count": 3,
   "metadata": {},
   "outputs": [
    {
     "name": "stdout",
     "output_type": "stream",
     "text": [
      "The key 65 corresponds to the max value of E.\n"
     ]
    }
   ],
   "source": [
    "# try your code here\n",
    "a, b = maxValKey(freq)\n",
    "print(\"The key {0} corresponds to the max value of {1}.\".format(a, b))"
   ]
  },
  {
   "cell_type": "markdown",
   "metadata": {},
   "source": [
    "# Exercise 6.2\n",
    "\n",
    "Drawing from exercise 6.1, create a function minValKey that calculates the min value and the corresponding key in a frequency dictionary.  The requirements are:\n",
    "with the following requirements:  \n",
    "- the dictionary is passed as the argument \"arg1\"\n",
    "- the function returns two values, minValue and minKey"
   ]
  },
  {
   "cell_type": "code",
   "execution_count": 4,
   "metadata": {},
   "outputs": [],
   "source": [
    "# Write your function here\n",
    "def minValKey(arg1):\n",
    "    # write the code here\n",
    "    minValue, minKey = maxValue,maxKey\n",
    "    for x in arg1:\n",
    "        if arg1[x] < minValue:\n",
    "            minValue=arg1[x]\n",
    "            minKey=x\n",
    "            \n",
    "    return minValue, minKey     # replace question marks with your variable' names\n"
   ]
  },
  {
   "cell_type": "markdown",
   "metadata": {},
   "source": [
    "Try the function.  \n",
    "The expected outcome is:  \n",
    "- \"The key D corresponds to the min value of 2.\""
   ]
  },
  {
   "cell_type": "code",
   "execution_count": 5,
   "metadata": {},
   "outputs": [
    {
     "name": "stdout",
     "output_type": "stream",
     "text": [
      "The key D corresponds to the min value of 2.\n"
     ]
    }
   ],
   "source": [
    "# try your code here\n",
    "a, b = minValKey(freq)\n",
    "print(\"The key {0} corresponds to the min value of {1}.\".format(b, a))"
   ]
  },
  {
   "cell_type": "markdown",
   "metadata": {},
   "source": [
    "## Exercise 6.3\n",
    "The following code calculates the frequency of elements in a list.  "
   ]
  },
  {
   "cell_type": "code",
   "execution_count": 6,
   "metadata": {},
   "outputs": [
    {
     "name": "stdout",
     "output_type": "stream",
     "text": [
      "{'two': 2, 'one': 3, 'four': 1, 'three': 1}\n"
     ]
    }
   ],
   "source": [
    "mylist = ['one','two','three','one','four', 'two', 'one']\n",
    "\n",
    "setp = set(mylist)\n",
    "freq = dict().fromkeys(setp, 0)\n",
    "\n",
    "for p in mylist:\n",
    "    freq[p] += 1\n",
    "print(freq)"
   ]
  },
  {
   "cell_type": "markdown",
   "metadata": {},
   "source": [
    "Create a function **calcFreqList** that does exactly the same with the following requirements:  \n",
    "- the list is passed as the argument \"arg1\"\n",
    "- the function returns a dictionary that stores the frequency of each element"
   ]
  },
  {
   "cell_type": "code",
   "execution_count": 7,
   "metadata": {},
   "outputs": [],
   "source": [
    "# write your function here\n",
    "def calcFreqList(arg1):\n",
    "    # write your code here\n",
    "    setp = set(arg1)\n",
    "    freq_dict= dict().fromkeys(setp,0)\n",
    "    for x in arg1: \n",
    "        freq_dict[x] += 1\n",
    "    return freq_dict    # replace the question mark with your variable's name"
   ]
  },
  {
   "cell_type": "markdown",
   "metadata": {},
   "source": [
    "Try the function.  \n",
    "The expected outcome is (please note that the order my change):  \n",
    "- \"{'two': 2, 'three': 1, 'one': 3, 'four': 1}\""
   ]
  },
  {
   "cell_type": "code",
   "execution_count": 8,
   "metadata": {},
   "outputs": [
    {
     "name": "stdout",
     "output_type": "stream",
     "text": [
      "{'two': 2, 'one': 3, 'four': 1, 'three': 1}\n"
     ]
    }
   ],
   "source": [
    "# test the function here\n",
    "print(calcFreqList(mylist))"
   ]
  },
  {
   "cell_type": "markdown",
   "metadata": {},
   "source": [
    "## Exercise 6.4 - NLP Wrangling and Pre-processing\n",
    "The goal of this exercise is to read, pre-process, and analyze the text file **Frankenstein_excerpt.txt**.\n",
    "\n",
    "### Step 1\n",
    "The following code reads the text file Frankenstein_excerpt.txt into the global variable *text*.  "
   ]
  },
  {
   "cell_type": "code",
   "execution_count": 9,
   "metadata": {},
   "outputs": [],
   "source": [
    "# Step 1 (it's already done. Keep in mind for future notebooks)\n",
    "fhandle = open(\"Frankenstein_excerpt.txt\")\n",
    "text = ''\n",
    "for line in fhandle:\n",
    "    text += line.strip()+' '    # add a space after each line of text\n",
    "fhandle.close()\n",
    "## Trim out the initial comments. \n",
    "textRaw = text[250:]   # text is the raw text we are working with\n"
   ]
  },
  {
   "cell_type": "markdown",
   "metadata": {},
   "source": [
    "### Step 2 - Preprocessing  \n",
    "#### Step 2.A Clean the data: Eliminate unwanted characters from the raw text and transform it to lower case.  \n",
    "Crerate a function delWhitespaces that eliminates unwanted characters from the raw text.  \n",
    "Requirements:  \n",
    "- accepts the raw text as input\n",
    "- returns the processed text as output"
   ]
  },
  {
   "cell_type": "code",
   "execution_count": 10,
   "metadata": {},
   "outputs": [
    {
     "data": {
      "text/plain": [
       "'frankenstein,  or the modern prometheus   by  mary wollstonecraft (godwin) shelley     letter 1   st. petersburgh, dec. 11th, 17--  to mrs. saville, england  you will rejoice to hear that no disaster '"
      ]
     },
     "execution_count": 10,
     "metadata": {},
     "output_type": "execute_result"
    }
   ],
   "source": [
    "unwanted_char = ['\\b', '\\t']   # you can extend or modify this list as you want\n",
    "# Step 2A here\n",
    "def delWhitespaces(rawText):\n",
    "    return rawText.replace(r'\\b','').replace(r'\\t','').lower()\n",
    "    \n",
    "text2A = delWhitespaces(textRaw)\n",
    "text2A[:200] # show first 200 characters. It should be one big string like 'frankenstein,  or the modern prometheus   by  mary wollstonecraft (godwin) shelley     letter 1   st. petersburgh, dec. 11th, 17--  to mrs. saville, england  you will rejoice to hear that no disaster'.'''"
   ]
  },
  {
   "cell_type": "markdown",
   "metadata": {},
   "source": [
    "#### Step 2.B Tokenization.  \n",
    "Create your own function to \"tokenize\" the raw text. For this exercise, let's tokenize the text in words. Below the requirements: \n",
    "- The function will have the raw text as input\n",
    "- the output is the \"tokenized\" text in the form of a list of words."
   ]
  },
  {
   "cell_type": "code",
   "execution_count": 11,
   "metadata": {},
   "outputs": [],
   "source": [
    "import re\n",
    "# Step 2B here\n",
    "\n",
    "def simpleTokenizator(rawText):\n",
    "    # write your code here\n",
    "    words = list()\n",
    "    for word in rawText.split():\n",
    "        words.append(word)\n",
    "    return words    # replace the question mark with your variable's name\n"
   ]
  },
  {
   "cell_type": "code",
   "execution_count": 12,
   "metadata": {},
   "outputs": [
    {
     "data": {
      "text/plain": [
       "['frankenstein,',\n",
       " 'or',\n",
       " 'the',\n",
       " 'modern',\n",
       " 'prometheus',\n",
       " 'by',\n",
       " 'mary',\n",
       " 'wollstonecraft',\n",
       " '(godwin)',\n",
       " 'shelley']"
      ]
     },
     "execution_count": 12,
     "metadata": {},
     "output_type": "execute_result"
    }
   ],
   "source": [
    "# Let's try your function here and visualize the first 10 elements\n",
    "text2B = simpleTokenizator(text2A)\n",
    "text2B[:10]    # the output should be a list of words, like ['frankenstein,','or','the','modern','prometheus','by','mary','wollstonecraft','(godwin)','shelley']"
   ]
  },
  {
   "cell_type": "markdown",
   "metadata": {},
   "source": [
    "### Step 3  \n",
    "Find the **most** used word in this text. You may want to use the functions that you prepared above."
   ]
  },
  {
   "cell_type": "code",
   "execution_count": 14,
   "metadata": {},
   "outputs": [
    {
     "name": "stdout",
     "output_type": "stream",
     "text": [
      "('the', 68)\n"
     ]
    }
   ],
   "source": [
    "# Write your code here to find the most used word (the result is one word and its frequency)\n",
    "def wordMax(rawText):\n",
    "    text = simpleTokenizator(delWhitespaces(rawText))\n",
    "    mostWord= dict()\n",
    "    wordCount=0\n",
    "    maxWord= \"\"\n",
    "    for word in text: \n",
    "        if word not in mostWord:\n",
    "            mostWord[word] = 1\n",
    "        else: \n",
    "            mostWord[word] += 1 \n",
    "    \n",
    "    for key in mostWord: \n",
    "        if mostWord[key] > wordCount:\n",
    "            wordCount= mostWord[key]\n",
    "            maxWord=key\n",
    "    return(maxWord,wordCount)         \n",
    "print (wordMax(textRaw))    # replace the question marks with the variables' names for maxKey and maxValue"
   ]
  },
  {
   "cell_type": "markdown",
   "metadata": {},
   "source": [
    "### Step 4  \n",
    "Find the **least** used word in this text. You may want to use the functions that you prepared above."
   ]
  },
  {
   "cell_type": "code",
   "execution_count": 17,
   "metadata": {},
   "outputs": [
    {
     "name": "stdout",
     "output_type": "stream",
     "text": [
      "('frankenstein,', 1)\n"
     ]
    }
   ],
   "source": [
    "# Write your code here for the least used word  (the result is one word and its frequency)\n",
    "def wordMin(rawText):\n",
    "    text = simpleTokenizator(delWhitespaces(rawText))\n",
    "    leastWord= dict()\n",
    "    wordCnt=999999\n",
    "    minWord= \"\"\n",
    "    for word in text: \n",
    "        if word not in leastWord:\n",
    "            leastWord[word] = 1\n",
    "        else: \n",
    "            leastWord[word] += 1 \n",
    "    \n",
    "    for key in leastWord: \n",
    "        if leastWord[key] < wordCnt:\n",
    "            wordCnt= leastWord[key]\n",
    "            minWord=key\n",
    "    return(minWord,wordCnt) \n",
    "\n",
    "print(wordMin(textRaw))    # replace the question marks with the variables' names for minKey and minValue"
   ]
  }
 ],
 "metadata": {
  "kernelspec": {
   "display_name": "Python 3",
   "language": "python",
   "name": "python3"
  },
  "language_info": {
   "codemirror_mode": {
    "name": "ipython",
    "version": 3
   },
   "file_extension": ".py",
   "mimetype": "text/x-python",
   "name": "python",
   "nbconvert_exporter": "python",
   "pygments_lexer": "ipython3",
   "version": "3.8.5"
  },
  "varInspector": {
   "cols": {
    "lenName": 16,
    "lenType": 16,
    "lenVar": 40
   },
   "kernels_config": {
    "python": {
     "delete_cmd_postfix": "",
     "delete_cmd_prefix": "del ",
     "library": "var_list.py",
     "varRefreshCmd": "print(var_dic_list())"
    },
    "r": {
     "delete_cmd_postfix": ") ",
     "delete_cmd_prefix": "rm(",
     "library": "var_list.r",
     "varRefreshCmd": "cat(var_dic_list()) "
    }
   },
   "types_to_exclude": [
    "module",
    "function",
    "builtin_function_or_method",
    "instance",
    "_Feature"
   ],
   "window_display": false
  }
 },
 "nbformat": 4,
 "nbformat_minor": 2
}
